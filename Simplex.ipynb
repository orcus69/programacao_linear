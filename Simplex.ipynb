{
  "nbformat": 4,
  "nbformat_minor": 0,
  "metadata": {
    "colab": {
      "provenance": [],
      "authorship_tag": "ABX9TyOECiw38rNYMxr93vGZAqBA",
      "include_colab_link": true
    },
    "kernelspec": {
      "name": "python3",
      "display_name": "Python 3"
    },
    "language_info": {
      "name": "python"
    }
  },
  "cells": [
    {
      "cell_type": "markdown",
      "metadata": {
        "id": "view-in-github",
        "colab_type": "text"
      },
      "source": [
        "<a href=\"https://colab.research.google.com/github/orcus69/programacao_linear/blob/main/Simplex.ipynb\" target=\"_parent\"><img src=\"https://colab.research.google.com/assets/colab-badge.svg\" alt=\"Open In Colab\"/></a>"
      ]
    },
    {
      "cell_type": "markdown",
      "source": [],
      "metadata": {
        "id": "L7fKNe6l3dq3"
      }
    },
    {
      "cell_type": "markdown",
      "source": [
        "forma padrao\n",
        "\n",
        "A => restrições\n",
        "\n",
        "b => base\n",
        "\n",
        "c => F.O"
      ],
      "metadata": {
        "id": "zvBBVabT2-_V"
      }
    },
    {
      "cell_type": "code",
      "source": [
        "import math\n",
        "import numpy as np\n"
      ],
      "metadata": {
        "id": "uiMK0QwW3ett"
      },
      "execution_count": 28,
      "outputs": []
    },
    {
      "cell_type": "code",
      "execution_count": 139,
      "metadata": {
        "id": "ina6J5xU2xdC"
      },
      "outputs": [],
      "source": [
        "A = [\n",
        "    [3, 6, 1, 0],\n",
        "    [4, 2, 0, 1],\n",
        "]\n",
        "\n",
        "c = [-20, -24, 0, 0]\n",
        "\n",
        "b = [60, 32]"
      ]
    },
    {
      "cell_type": "code",
      "source": [
        "def simplex(c, A, b):\n",
        "    tableau = to_tableau(c, A, b)\n",
        "\n",
        "    while can_improve(tableau):\n",
        "        position = pivot_position(tableau)\n",
        "        tableau = do_pivot(tableau, position)\n",
        "\n",
        "    return solution(tableau)"
      ],
      "metadata": {
        "id": "yFOO_4ij3C1A"
      },
      "execution_count": 51,
      "outputs": []
    },
    {
      "cell_type": "code",
      "source": [
        "#monta o tableau\n",
        "def to_tableau(c, A, b):\n",
        "    base = [eq + [x] for eq, x in zip(A, b)]\n",
        "    z = c + [0]\n",
        "    return base + [np.negative(z)]\n",
        "\n",
        "# retorna false se estiver na soluçao otima\n",
        "def can_improve(tableau):\n",
        "    z = tableau[-1]\n",
        "    return any(x > 0 for x in z[:-1])"
      ],
      "metadata": {
        "id": "X5otdkuC3JpC"
      },
      "execution_count": 78,
      "outputs": []
    },
    {
      "cell_type": "code",
      "source": [
        "#retorna a posiçao para fazer a pivotagem\n",
        "def pivot_position(tableau):\n",
        "    z = tableau[-1]\n",
        "    column = next(i for i, x in enumerate(z[:-1]) if x > 0)\n",
        "\n",
        "    restrictions = []\n",
        "    for eq in tableau[:-1]:\n",
        "        el = eq[column]\n",
        "        restrictions.append(math.inf if el <= 0 else eq[-1] / el)\n",
        "\n",
        "    row = restrictions.index(min(restrictions))\n",
        "    return row, column\n",
        "\n",
        "#faz a pivotagem no\n",
        "def do_pivot(tableau, position):\n",
        "    new_tableau = [[] for eq in tableau]\n",
        "\n",
        "    i, j = position\n",
        "    pivot_value = tableau[i][j]\n",
        "    new_tableau[i] = np.array(tableau[i]) / pivot_value\n",
        "\n",
        "    for eq_i, eq in enumerate(tableau):\n",
        "        if eq_i != i:\n",
        "            multiplier = np.array(new_tableau[i]) * tableau[eq_i][j]\n",
        "            new_tableau[eq_i] = np.array(tableau[eq_i]) - multiplier\n",
        "\n",
        "    #novo tableau\n",
        "    return new_tableau"
      ],
      "metadata": {
        "id": "RoRsJrs33WAn"
      },
      "execution_count": 43,
      "outputs": []
    },
    {
      "cell_type": "code",
      "source": [
        "def solution(tableau):\n",
        "    columns = np.array(tableau).T\n",
        "    solutions = []\n",
        "    index = 0;\n",
        "    for column in columns[:-1]:\n",
        "        solution = 0\n",
        "        if sum(column) == 1 and len([c for c in column if c == 0]) == len(column) - 1:\n",
        "            one_index = column.tolist().index(1)\n",
        "            solution = columns[-1][one_index]\n",
        "        \n",
        "        solutions.append(solution)\n",
        "        \n",
        "\n",
        "    print(\"Soluçao:\")\n",
        "    for solution in solutions:\n",
        "      index = index +1\n",
        "      print(\"x\"+str(index)+\": \"+str(solution))\n",
        "\n",
        "    print(\"Funçao Objeitvo:\")\n",
        "    \n",
        "    x = solutions\n",
        "    y = np.array(c)\n",
        "\n",
        "    print(sum(x*y))"
      ],
      "metadata": {
        "id": "bgjtg5yMA5Hp"
      },
      "execution_count": 137,
      "outputs": []
    },
    {
      "cell_type": "code",
      "source": [
        "simplex(c, A, b)"
      ],
      "metadata": {
        "colab": {
          "base_uri": "https://localhost:8080/"
        },
        "id": "WdhHE2Gc4dTG",
        "outputId": "6480d518-55a2-42e1-cfd1-f0f1020ef834"
      },
      "execution_count": 138,
      "outputs": [
        {
          "output_type": "stream",
          "name": "stdout",
          "text": [
            "Soluçao:\n",
            "x1: 4.0\n",
            "x2: 8.0\n",
            "x3: 0\n",
            "x4: 0\n",
            "Funçao Objeitvo:\n",
            "-272.0\n"
          ]
        }
      ]
    }
  ]
}